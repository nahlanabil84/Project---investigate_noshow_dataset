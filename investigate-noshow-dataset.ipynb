{
 "cells": [
  {
   "cell_type": "markdown",
   "metadata": {},
   "source": [
    "> **Tip**: Welcome to the Investigate a Dataset project! You will find tips in quoted sections like this to help organize your approach to your investigation. Before submitting your project, it will be a good idea to go back through your report and remove these sections to make the presentation of your work as tidy as possible. First things first, you might want to double-click this Markdown cell and change the title so that it reflects your dataset and investigation.\n",
    "\n",
    "# Project: No Show Appointments Data Analysis\n",
    "\n",
    "## Table of Contents\n",
    "<ul>\n",
    "<li><a href=\"#intro\">Introduction</a></li>\n",
    "<li><a href=\"#wrangling\">Data Wrangling</a></li>\n",
    "<li><a href=\"#eda\">Exploratory Data Analysis</a></li>\n",
    "<li><a href=\"#conclusions\">Conclusions</a></li>\n",
    "</ul>"
   ]
  },
  {
   "cell_type": "markdown",
   "metadata": {},
   "source": [
    "<a id='intro'></a>\n",
    "## Introduction\n",
    "\n",
    "In this project, We are going to analyzing <a href=\"https://www.google.com/url?q=https://d17h27t6h515a5.cloudfront.net/topher/2017/October/59dd2e9a_noshowappointments-kagglev2-may-2016/noshowappointments-kagglev2-may-2016.csv&sa=D&ust=1532469042118000\">No-Show Appointment</a> dataset. This dataset collects information from 100k medical appointments in Brazil and is focused on the question of whether or not patients show up for their appointment. A number of characteristics about the patient are included in each row.\n",
    "\n",
    "The Dataset on Kaggel: <a href=\"https://www.kaggle.com/joniarroba/noshowappointments\">Medical Appointment No Shows</a>\n",
    "\n",
    "- 'ScheduledDay' tells us on what day the patient set up their appointment.\n",
    "- 'Neighborhood' indicates the location of the hospital.\n",
    "- 'Scholarship' indicates whether or not the patient is enrolled in Brasilian welfare program.\n",
    "- 'No-show' it says ‘No’ if the patient showed up to their appointment, and ‘Yes’ if they did not show up.\n",
    "\n",
    "\n",
    "**Questions**:\n",
    "We're going to find:\n",
    "- \"What are most common reasons for patients for not showing up in thier appointments?\"\n",
    "- \"Which factors affect showing up in appointments?\"\n"
   ]
  },
  {
   "cell_type": "code",
   "execution_count": null,
   "metadata": {},
   "outputs": [],
   "source": [
    "import pandas as pd\n",
    "import matplotlib.pyplot as plt\n",
    "import numpy as np\n",
    "import seaborn as sb\n",
    "\n",
    "from pandas.plotting import scatter_matrix\n",
    "import matplotlib.ticker as ticker\n",
    "\n",
    "%matplotlib inline"
   ]
  },
  {
   "cell_type": "markdown",
   "metadata": {},
   "source": [
    "<a id='wrangling'></a>\n",
    "## Data Wrangling\n",
    "\n",
    "> **Tip**: In this section of the report, you will load in the data, check for cleanliness, and then trim and clean your dataset for analysis. Make sure that you document your steps carefully and justify your cleaning decisions.\n",
    "\n",
    "### General Properties"
   ]
  },
  {
   "cell_type": "markdown",
   "metadata": {
    "scrolled": true
   },
   "source": [
    "Read noshowappointments"
   ]
  },
  {
   "cell_type": "code",
   "execution_count": null,
   "metadata": {
    "scrolled": true
   },
   "outputs": [],
   "source": [
    "df = pd.read_csv('data/noshowappointments.csv')\n",
    "df.head()"
   ]
  },
  {
   "cell_type": "code",
   "execution_count": null,
   "metadata": {},
   "outputs": [],
   "source": [
    "df.shape"
   ]
  },
  {
   "cell_type": "code",
   "execution_count": null,
   "metadata": {},
   "outputs": [],
   "source": [
    "df.describe()"
   ]
  },
  {
   "cell_type": "code",
   "execution_count": null,
   "metadata": {},
   "outputs": [],
   "source": [
    "df.info()"
   ]
  },
  {
   "cell_type": "code",
   "execution_count": null,
   "metadata": {},
   "outputs": [],
   "source": [
    "df.isna().sum()"
   ]
  },
  {
   "cell_type": "code",
   "execution_count": null,
   "metadata": {},
   "outputs": [],
   "source": [
    "df.hist(figsize=(20,15));"
   ]
  },
  {
   "cell_type": "markdown",
   "metadata": {},
   "source": [
    "> **Tip**: You should _not_ perform too many operations in each cell. Create cells freely to explore your data. One option that you can take with this project is to do a lot of explorations in an initial notebook. These don't have to be organized, but make sure you use enough comments to understand the purpose of each code cell. Then, after you're done with your analysis, create a duplicate notebook where you will trim the excess and organize your steps so that you have a flowing, cohesive report.\n",
    "\n",
    "> **Tip**: Make sure that you keep your reader informed on the steps that you are taking in your investigation. Follow every code cell, or every set of related code cells, with a markdown cell to describe to the reader what was found in the preceding cell(s). Try to make it so that the reader can then understand what they will be seeing in the following cell(s).\n",
    "\n",
    "### Data Cleaning (Drop invalid, outliers & duplicated values, Change types, Rename columns & Delete unimportant columns)"
   ]
  },
  {
   "cell_type": "markdown",
   "metadata": {},
   "source": [
    "#### Rename columns"
   ]
  },
  {
   "cell_type": "code",
   "execution_count": null,
   "metadata": {},
   "outputs": [],
   "source": [
    "df['SMSReceived'] = df['SMS_received']\n",
    "df['NoShow'] = df['No-show']"
   ]
  },
  {
   "cell_type": "markdown",
   "metadata": {},
   "source": [
    "#### Delete unimportant columns"
   ]
  },
  {
   "cell_type": "code",
   "execution_count": null,
   "metadata": {},
   "outputs": [],
   "source": [
    "df.drop(['PatientId', 'AppointmentID','SMS_received', 'No-show'], axis=1 ,inplace=True)"
   ]
  },
  {
   "cell_type": "code",
   "execution_count": null,
   "metadata": {
    "scrolled": true
   },
   "outputs": [],
   "source": [
    "df.info()"
   ]
  },
  {
   "cell_type": "markdown",
   "metadata": {},
   "source": [
    "#### Drop invalid values"
   ]
  },
  {
   "cell_type": "markdown",
   "metadata": {},
   "source": [
    "As Age can't be negative value, its better to cut negative values of age of the dataset"
   ]
  },
  {
   "cell_type": "code",
   "execution_count": null,
   "metadata": {},
   "outputs": [],
   "source": [
    "negative_age = df[df.Age < 0].index\n",
    "negative_age"
   ]
  },
  {
   "cell_type": "code",
   "execution_count": null,
   "metadata": {
    "scrolled": true
   },
   "outputs": [],
   "source": [
    "df.drop(negative_age ,inplace=True)"
   ]
  },
  {
   "cell_type": "code",
   "execution_count": null,
   "metadata": {},
   "outputs": [],
   "source": [
    "sum(df.Age < 0)"
   ]
  },
  {
   "cell_type": "markdown",
   "metadata": {},
   "source": [
    "#### Drop duplicated values"
   ]
  },
  {
   "cell_type": "code",
   "execution_count": null,
   "metadata": {},
   "outputs": [],
   "source": [
    "sum(df.duplicated())"
   ]
  },
  {
   "cell_type": "markdown",
   "metadata": {},
   "source": [
    "As Duplicatied data would manipulate the insights, its better to drop them from the dataset"
   ]
  },
  {
   "cell_type": "code",
   "execution_count": null,
   "metadata": {},
   "outputs": [],
   "source": [
    "df.drop_duplicates(inplace=True)"
   ]
  },
  {
   "cell_type": "code",
   "execution_count": null,
   "metadata": {},
   "outputs": [],
   "source": [
    "df.info()"
   ]
  },
  {
   "cell_type": "markdown",
   "metadata": {},
   "source": [
    "#### Drop outliers"
   ]
  },
  {
   "cell_type": "code",
   "execution_count": null,
   "metadata": {},
   "outputs": [],
   "source": [
    "sb.boxplot(df.Age).set_title('Age distribution')\n",
    "plt.show()"
   ]
  },
  {
   "cell_type": "code",
   "execution_count": null,
   "metadata": {},
   "outputs": [],
   "source": [
    "df[(df.Age > 100)]"
   ]
  },
  {
   "cell_type": "code",
   "execution_count": null,
   "metadata": {},
   "outputs": [],
   "source": [
    "df = df[(df.Age < 100)]"
   ]
  },
  {
   "cell_type": "markdown",
   "metadata": {},
   "source": [
    "- Cut off patients of age>100 as they are outliers"
   ]
  },
  {
   "cell_type": "markdown",
   "metadata": {},
   "source": [
    "#### Change types"
   ]
  },
  {
   "cell_type": "code",
   "execution_count": null,
   "metadata": {},
   "outputs": [],
   "source": [
    "df['AppointmentDay'] = pd.to_datetime(df['AppointmentDay']).dt.date\n",
    "df['ScheduledDay'] = pd.to_datetime(df['ScheduledDay']).dt.date"
   ]
  },
  {
   "cell_type": "markdown",
   "metadata": {},
   "source": [
    "Remove appointments was set before reserved day"
   ]
  },
  {
   "cell_type": "code",
   "execution_count": null,
   "metadata": {},
   "outputs": [],
   "source": [
    "df = df[df['AppointmentDay'] >= df['ScheduledDay']]\n",
    "df.shape"
   ]
  },
  {
   "cell_type": "code",
   "execution_count": null,
   "metadata": {},
   "outputs": [],
   "source": [
    "df['IsShowed'] = (df.NoShow == \"Yes\").astype(int)"
   ]
  },
  {
   "cell_type": "code",
   "execution_count": null,
   "metadata": {},
   "outputs": [],
   "source": [
    "df.info()"
   ]
  },
  {
   "cell_type": "markdown",
   "metadata": {},
   "source": [
    "<a id='eda'></a>\n",
    "## Exploratory Data Analysis\n",
    "\n",
    "> **Tip**: Now that you've trimmed and cleaned your data, you're ready to move on to exploration. Compute statistics and create visualizations with the goal of addressing the research questions that you posed in the Introduction section. It is recommended that you be systematic with your approach. Look at one variable at a time, and then follow it up by looking at relationships between variables.\n",
    "\n",
    "### Research Question 1 (Calculate percentages)"
   ]
  },
  {
   "cell_type": "code",
   "execution_count": null,
   "metadata": {},
   "outputs": [],
   "source": [
    "def calculate_percent(df_last_ver, column_name, column_value, txt):\n",
    "    count = df_last_ver[(df_last_ver[column_name]== column_value)][column_name].count()\n",
    "    percent = (count / df_last_ver[column_name].count()) *100 \n",
    "    print('{t} percentage = {p:.2f} %'.format(t=txt, p=percent))"
   ]
  },
  {
   "cell_type": "code",
   "execution_count": null,
   "metadata": {},
   "outputs": [],
   "source": [
    "calculate_percent(df,'NoShow','No', 'Showed patients')\n",
    "calculate_percent(df,'NoShow','Yes', 'Never showed patients')"
   ]
  },
  {
   "cell_type": "code",
   "execution_count": null,
   "metadata": {},
   "outputs": [],
   "source": [
    "df.NoShow.value_counts().plot.pie(figsize=(6,6), autopct='%.2f%%', explode=(0, .05))\n",
    "plt.title('Showed & Never Showed Patients chart & percentages')\n",
    "plt.show()"
   ]
  },
  {
   "cell_type": "code",
   "execution_count": null,
   "metadata": {},
   "outputs": [],
   "source": [
    "df.Hipertension.value_counts().plot.pie(figsize=(6,6), autopct='%.2f%%', explode=(0, .05))\n",
    "plt.title('Hipertension Patients chart & percentages')\n",
    "plt.show()"
   ]
  },
  {
   "cell_type": "markdown",
   "metadata": {},
   "source": [
    "- Patients who have Hipertension percentage = 19.73 %\n",
    "- Patients who don't have Hipertension percentage = 80.27 %"
   ]
  },
  {
   "cell_type": "code",
   "execution_count": null,
   "metadata": {},
   "outputs": [],
   "source": [
    "df.Scholarship.value_counts().plot.pie(figsize=(6,6), autopct='%.2f%%', explode=(0, .05))\n",
    "plt.title('Patients with & without Scholarships chart & percentages')\n",
    "plt.show()"
   ]
  },
  {
   "cell_type": "markdown",
   "metadata": {},
   "source": [
    "- 90% of patients doesn't have scholarship\n",
    "- ~10% of patients have scholarship"
   ]
  },
  {
   "cell_type": "markdown",
   "metadata": {},
   "source": [
    "### Research Question 2  (Analyze relations between Age, Neighbourhood, Scholarship & Not showing in appointment)"
   ]
  },
  {
   "cell_type": "code",
   "execution_count": null,
   "metadata": {},
   "outputs": [],
   "source": [
    "def value_to_class(value):\n",
    "    if value < 4:\n",
    "        return 1          #Baby\n",
    "    elif value < 13:\n",
    "        return 2          #Child\n",
    "    elif value < 21:      \n",
    "        return 3          #Tean\n",
    "    elif value < 35:\n",
    "        return 4          #Young adult\n",
    "    elif value < 60:\n",
    "        return 5          #Adult\n",
    "    else:                \n",
    "        return 6          #Elder\n",
    "       \n",
    "age_dict = {\n",
    "    1:'Baby',\n",
    "    2:'Child',\n",
    "    3:'Teen',\n",
    "    4:'Young adult',\n",
    "    5:'Adult',\n",
    "    6:'Elder',\n",
    "}"
   ]
  },
  {
   "cell_type": "code",
   "execution_count": null,
   "metadata": {},
   "outputs": [],
   "source": [
    "df['AgeClass'] = df['Age'].apply(value_to_class)"
   ]
  },
  {
   "cell_type": "code",
   "execution_count": null,
   "metadata": {
    "scrolled": false
   },
   "outputs": [],
   "source": [
    "df.groupby('NoShow').AgeClass.value_counts().plot(kind='bar')\n",
    "plt.title('Showed & Never showed patients divided with age class histogram');"
   ]
  },
  {
   "cell_type": "code",
   "execution_count": null,
   "metadata": {},
   "outputs": [],
   "source": [
    "df.Age.plot.hist()\n",
    "plt.title('Patients age histogram')\n",
    "plt.show();\n",
    "print('average age of all patients: {:.2f}'.format(df.Age.mean()))"
   ]
  },
  {
   "cell_type": "code",
   "execution_count": null,
   "metadata": {
    "scrolled": true
   },
   "outputs": [],
   "source": [
    "sb.boxplot( x=df.Age, y=df.NoShow)\n",
    "plt.title('Age distribution for Showed & Never showed patients')\n",
    "plt.show()\n"
   ]
  },
  {
   "cell_type": "markdown",
   "metadata": {},
   "source": [
    "- Some Patients who never show in appointments are from age ~= 20:50"
   ]
  },
  {
   "cell_type": "code",
   "execution_count": null,
   "metadata": {
    "scrolled": true
   },
   "outputs": [],
   "source": [
    "fig, ax = plt.subplots()\n",
    "ax.hist(df['Handcap'], bins=5, edgecolor='black', label='Handcap', alpha = 0.5)\n",
    "ax.hist(df['NoShow'], bins=5, edgecolor='black', label='NoShow', alpha =0.5)\n",
    "\n",
    "ax.yaxis.set_major_formatter(ticker.PercentFormatter(xmax=len(df)))\n",
    "\n",
    "plt.title('Handcaped patients for Showed & Never showed')\n",
    "plt.legend();\n"
   ]
  },
  {
   "cell_type": "markdown",
   "metadata": {},
   "source": [
    "- Number of **Handcaped** Patients who **Never Show** in Appointments are **very small** compared with **none handcapes** patients who **showed** in their appointments"
   ]
  },
  {
   "cell_type": "code",
   "execution_count": null,
   "metadata": {
    "scrolled": true
   },
   "outputs": [],
   "source": [
    "showed = (df.NoShow == 'No')\n",
    "neverShowed = (df.NoShow == 'Yes')\n",
    "\n",
    "df.Neighbourhood[showed].hist(alpha=0.5, bins=20, label='showed')\n",
    "df.Neighbourhood[neverShowed].hist(alpha=0.5, bins=20, label='neverShowed')\n",
    "plt.title('Showed & Never showed patients according to population distribution')\n",
    "plt.legend();"
   ]
  },
  {
   "cell_type": "code",
   "execution_count": null,
   "metadata": {},
   "outputs": [],
   "source": [
    "df[(df['NoShow']== 'Yes')]['Neighbourhood'].value_counts()"
   ]
  },
  {
   "cell_type": "markdown",
   "metadata": {},
   "source": [
    "- It's obvious in last hitogram that: **some Neigbourhoods** have **high numbers** of patients who **never show** in appointments than the others \n",
    "\n",
    "- From data value_counts in last cell: we can indicate that Neigbourhoods with highly never showed patients are from the following: (JARDIM CAMBURI, MARIA ORTIZ, ITARARÉ, RESISTÊNCIA, CENTRO,..)"
   ]
  },
  {
   "cell_type": "code",
   "execution_count": null,
   "metadata": {
    "scrolled": true
   },
   "outputs": [],
   "source": [
    "df[(df['NoShow']== 'Yes')]['SMSReceived'].value_counts().plot.pie(figsize=(6,6), autopct='%.2f%%', explode=(0, .05))\n",
    "plt.title('Never showed patients that had or had not recieve SMS')\n",
    "plt.show()"
   ]
  },
  {
   "cell_type": "markdown",
   "metadata": {},
   "source": [
    "- 55.72% of patients who never show in appointment didn't recieve SMS \n",
    "- 44.28% of patients who never show in appointment recieved SMS "
   ]
  },
  {
   "cell_type": "code",
   "execution_count": null,
   "metadata": {},
   "outputs": [],
   "source": [
    "df.ScheduledDay[showed].hist(alpha=0.5, bins=20, label='showed')\n",
    "df.ScheduledDay[neverShowed].hist(alpha=0.5, bins=20, label='neverShowed')\n",
    "plt.title('Showed & Never showed patients according to Scheduled day histogram')\n",
    "plt.legend();"
   ]
  },
  {
   "cell_type": "markdown",
   "metadata": {},
   "source": [
    "- **Some ScheduledDay** have **high numbers** of patients who **never show** in appointments than the others, for instance: period of **May 2016**"
   ]
  },
  {
   "cell_type": "code",
   "execution_count": null,
   "metadata": {
    "scrolled": true
   },
   "outputs": [],
   "source": [
    "df.AppointmentDay[showed].hist(alpha=0.5, bins=20, label='showed')\n",
    "df.AppointmentDay[neverShowed].hist(alpha=0.5, bins=20, label='neverShowed')\n",
    "plt.title('Showed & Never showed patients according to Appointment day histogram')\n",
    "plt.legend();"
   ]
  },
  {
   "cell_type": "markdown",
   "metadata": {},
   "source": [
    "- **Some AppointmentDay** have **high numbers** of patients who **never show** in appointments than the others, such as people who registered their appointment in **June 2016**"
   ]
  },
  {
   "cell_type": "code",
   "execution_count": null,
   "metadata": {},
   "outputs": [],
   "source": [
    "df.Scholarship[showed].hist(alpha=0.5, bins=20, label='showed')\n",
    "df.Scholarship[neverShowed].hist(alpha=0.5, bins=20, label='neverShowed')\n",
    "plt.title('Showed & Never showed patients according to their Scholarship state histogram')\n",
    "plt.legend();"
   ]
  },
  {
   "cell_type": "code",
   "execution_count": null,
   "metadata": {},
   "outputs": [],
   "source": [
    "df.groupby('NoShow').Scholarship.value_counts()"
   ]
  },
  {
   "cell_type": "markdown",
   "metadata": {},
   "source": [
    "- **~25%** of people with **no scholarship** tend not to show in appointments"
   ]
  },
  {
   "cell_type": "markdown",
   "metadata": {},
   "source": [
    "<a id='conclusions'></a>\n",
    "## Conclusions\n",
    "\n",
    "> **Tip**: Finally, summarize your findings and the results that have been performed. Make sure that you are clear with regards to the limitations of your exploration. If you haven't done any statistical tests, do not imply any statistical conclusions. And make sure you avoid implying causation from correlation!\n",
    "\n",
    "> **Tip**: Once you are satisfied with your work, you should save a copy of the report in HTML or PDF form via the **File** > **Download as** submenu. Before exporting your report, check over it to make sure that the flow of the report is complete. You should probably remove all of the \"Tip\" quotes like this one so that the presentation is as tidy as possible. Congratulations!"
   ]
  },
  {
   "cell_type": "markdown",
   "metadata": {},
   "source": [
    "#### Never showed patients percentage = 20.11 %\n",
    "\n",
    "- Showed patients percentage = 79.89 %\n",
    "- Never showed patients percentage = 20.11 %\n",
    "\n",
    "- Patients who have Hipertension percentage = 19.73 %\n",
    "- Patients who don't have Hipertension percentage = 80.27 %\n",
    "\n",
    "- 90% of patients doesn't have scholarship\n",
    "- ~10% of patients have scholarship\n",
    "\n",
    "- average age of all patients: 37.08\n",
    "\n",
    "- Some Patients who never show in appointments are from age ~= 20:50\n",
    "\n",
    "- Number of **Handcaped** Patients who **Never Show** in Appointments are **very small** compared with **none handcapes** patients who **showed** in their appointments\n",
    "\n",
    "- **Some Neigbourhoods** have **high numbers** of patients who **never show** in appointments than the others \n",
    "- We can indicate that Neigbourhoods with highly never showed patients are from the following: (JARDIM CAMBURI, MARIA ORTIZ, ITARARÉ, RESISTÊNCIA, CENTRO,..)\n",
    "\n",
    "- 55.72% of patients who never show in appointment didn't recieve SMS \n",
    "- 44.28% of patients who never show in appointment recieved SMS \n",
    "\n",
    "- **Some ScheduledDay** have **high numbers** of patients who **never show** in appointments than the others, for instance: period of **May 2016**\n",
    "\n",
    "- **Some AppointmentDay** have **high numbers** of patients who **never show** in appointments than the others, such as people who registered their appointment in **June 2016**\n",
    "\n",
    "- **~25%** of people with **no scholarship** tend not to show in appointments"
   ]
  }
 ],
 "metadata": {
  "kernelspec": {
   "display_name": "Python 3",
   "language": "python",
   "name": "python3"
  },
  "language_info": {
   "codemirror_mode": {
    "name": "ipython",
    "version": 3
   },
   "file_extension": ".py",
   "mimetype": "text/x-python",
   "name": "python",
   "nbconvert_exporter": "python",
   "pygments_lexer": "ipython3",
   "version": "3.7.3"
  }
 },
 "nbformat": 4,
 "nbformat_minor": 2
}
